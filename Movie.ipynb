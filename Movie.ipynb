{
 "cells": [
  {
   "cell_type": "code",
   "execution_count": 1,
   "id": "e6f4c624",
   "metadata": {},
   "outputs": [
    {
     "data": {
      "text/plain": [
       "Intitializing Scala interpreter ..."
      ]
     },
     "metadata": {},
     "output_type": "display_data"
    },
    {
     "data": {
      "text/plain": [
       "Spark Web UI available at http://10.0.0.18:4040\n",
       "SparkContext available as 'sc' (version = 3.3.2, master = local[*], app id = local-1680198427513)\n",
       "SparkSession available as 'spark'\n"
      ]
     },
     "metadata": {},
     "output_type": "display_data"
    },
    {
     "name": "stdout",
     "output_type": "stream",
     "text": [
      "23/03/30 13:47:10 WARN SparkSession: Using an existing Spark session; only runtime SQL configurations will take effect.\n"
     ]
    },
    {
     "data": {
      "text/plain": [
       "import org.apache.spark.sql.SparkSession\n",
       "spark: org.apache.spark.sql.SparkSession = org.apache.spark.sql.SparkSession@5f30e7a1\n"
      ]
     },
     "execution_count": 1,
     "metadata": {},
     "output_type": "execute_result"
    }
   ],
   "source": [
    "import org.apache.spark.sql.SparkSession\n",
    "\n",
    "val spark = SparkSession\n",
    "  .builder()\n",
    "  .appName(\"AssignmentSubmission7\")\n",
    "  .getOrCreate()"
   ]
  },
  {
   "cell_type": "code",
   "execution_count": 2,
   "id": "cfa98f56",
   "metadata": {},
   "outputs": [
    {
     "data": {
      "text/plain": [
       "sc: org.apache.spark.SparkContext = org.apache.spark.SparkContext@46e24902\n"
      ]
     },
     "execution_count": 2,
     "metadata": {},
     "output_type": "execute_result"
    }
   ],
   "source": [
    "val sc = spark.sparkContext"
   ]
  },
  {
   "cell_type": "code",
   "execution_count": 3,
   "id": "01a6e45c",
   "metadata": {},
   "outputs": [
    {
     "name": "stdout",
     "output_type": "stream",
     "text": [
      "23/03/30 13:48:52 WARN package: Truncated the string representation of a plan since it was too large. This behavior can be adjusted by setting 'spark.sql.debug.maxToStringFields'.\n",
      "+-----+-----------------+----------------------+--------+-----------------------+----------------------+--------------------+----------------------+---------+--------------------+------------------+--------------------+---------------+-------------------------+--------------------+--------------------+--------------------+--------------------+--------------------+--------+-------+--------------+---------+----------+----------------------+----------+------------+--------------------+\n",
      "|color|    director_name|num_critic_for_reviews|duration|director_facebook_likes|actor_3_facebook_likes|        actor_2_name|actor_1_facebook_likes|    gross|              genres|      actor_1_name|         movie_title|num_voted_users|cast_total_facebook_likes|        actor_3_name|facenumber_in_poster|       plot_keywords|     movie_imdb_link|num_user_for_reviews|language|country|content_rating|   budget|title_year|actor_2_facebook_likes|imdb_score|aspect_ratio|movie_facebook_likes|\n",
      "+-----+-----------------+----------------------+--------+-----------------------+----------------------+--------------------+----------------------+---------+--------------------+------------------+--------------------+---------------+-------------------------+--------------------+--------------------+--------------------+--------------------+--------------------+--------+-------+--------------+---------+----------+----------------------+----------+------------+--------------------+\n",
      "|Color|    James Cameron|                   723|     178|                      0|                   855|    Joel David Moore|                  1000|760505847|Action|Adventure|...|       CCH Pounder|              Avatar|         886204|                     4834|           Wes Studi|                   0|avatar|future|mar...|http://www.imdb.c...|                3054| English|    USA|         PG-13|237000000|      2009|                   936|       7.9|        1.78|               33000|\n",
      "|Color|   Gore Verbinski|                   302|     169|                    563|                  1000|       Orlando Bloom|                 40000|309404152|Action|Adventure|...|       Johnny Depp|Pirates of the Ca...|         471220|                    48350|      Jack Davenport|                   0|goddess|marriage ...|http://www.imdb.c...|                1238| English|    USA|         PG-13|300000000|      2007|                  5000|       7.1|        2.35|                   0|\n",
      "|Color|       Sam Mendes|                   602|     148|                      0|                   161|        Rory Kinnear|                 11000|200074175|Action|Adventure|...|   Christoph Waltz|            Spectre |         275868|                    11700|    Stephanie Sigman|                   1|bomb|espionage|se...|http://www.imdb.c...|                 994| English|     UK|         PG-13|245000000|      2015|                   393|       6.8|        2.35|               85000|\n",
      "|Color|Christopher Nolan|                   813|     164|                  22000|                 23000|      Christian Bale|                 27000|448130642|     Action|Thriller|         Tom Hardy|The Dark Knight R...|        1144337|                   106759|Joseph Gordon-Levitt|                   0|deception|impriso...|http://www.imdb.c...|                2701| English|    USA|         PG-13|250000000|      2012|                 23000|       8.5|        2.35|              164000|\n",
      "| null|      Doug Walker|                  null|    null|                    131|                  null|          Rob Walker|                   131|     null|         Documentary|       Doug Walker|Star Wars: Episod...|              8|                      143|                null|                   0|                null|http://www.imdb.c...|                null|    null|   null|          null|     null|      null|                    12|       7.1|        null|                   0|\n",
      "|Color|   Andrew Stanton|                   462|     132|                    475|                   530|     Samantha Morton|                   640| 73058679|Action|Adventure|...|      Daryl Sabara|        John Carter |         212204|                     1873|        Polly Walker|                   1|alien|american ci...|http://www.imdb.c...|                 738| English|    USA|         PG-13|263700000|      2012|                   632|       6.6|        2.35|               24000|\n",
      "|Color|        Sam Raimi|                   392|     156|                      0|                  4000|        James Franco|                 24000|336530303|Action|Adventure|...|      J.K. Simmons|       Spider-Man 3 |         383056|                    46055|       Kirsten Dunst|                   0|sandman|spider ma...|http://www.imdb.c...|                1902| English|    USA|         PG-13|258000000|      2007|                 11000|       6.2|        2.35|                   0|\n",
      "|Color|     Nathan Greno|                   324|     100|                     15|                   284|        Donna Murphy|                   799|200807262|Adventure|Animati...|      Brad Garrett|            Tangled |         294810|                     2036|         M.C. Gainey|                   1|17th century|base...|http://www.imdb.c...|                 387| English|    USA|            PG|260000000|      2010|                   553|       7.8|        1.85|               29000|\n",
      "|Color|      Joss Whedon|                   635|     141|                      0|                 19000|   Robert Downey Jr.|                 26000|458991599|Action|Adventure|...|   Chris Hemsworth|Avengers: Age of ...|         462669|                    92000|  Scarlett Johansson|                   4|artificial intell...|http://www.imdb.c...|                1117| English|    USA|         PG-13|250000000|      2015|                 21000|       7.5|        2.35|              118000|\n",
      "|Color|      David Yates|                   375|     153|                    282|                 10000|    Daniel Radcliffe|                 25000|301956980|Adventure|Family|...|      Alan Rickman|Harry Potter and ...|         321795|                    58753|        Rupert Grint|                   3|blood|book|love|p...|http://www.imdb.c...|                 973| English|     UK|            PG|250000000|      2009|                 11000|       7.5|        2.35|               10000|\n",
      "|Color|      Zack Snyder|                   673|     183|                      0|                  2000|        Lauren Cohan|                 15000|330249062|Action|Adventure|...|      Henry Cavill|Batman v Superman...|         371639|                    24450|      Alan D. Purwin|                   0|based on comic bo...|http://www.imdb.c...|                3018| English|    USA|         PG-13|250000000|      2016|                  4000|       6.9|        2.35|              197000|\n",
      "|Color|     Bryan Singer|                   434|     169|                      0|                   903|       Marlon Brando|                 18000|200069408|Action|Adventure|...|      Kevin Spacey|   Superman Returns |         240396|                    29991|      Frank Langella|                   0|crystal|epic|lex ...|http://www.imdb.c...|                2367| English|    USA|         PG-13|209000000|      2006|                 10000|       6.1|        2.35|                   0|\n",
      "|Color|     Marc Forster|                   403|     106|                    395|                   393|     Mathieu Amalric|                   451|168368427|    Action|Adventure|Giancarlo Giannini|  Quantum of Solace |         330784|                     2023|        Rory Kinnear|                   1|action hero|attem...|http://www.imdb.c...|                1243| English|     UK|         PG-13|200000000|      2008|                   412|       6.7|        2.35|                   0|\n"
     ]
    },
    {
     "name": "stdout",
     "output_type": "stream",
     "text": [
      "|Color|   Gore Verbinski|                   313|     151|                    563|                  1000|       Orlando Bloom|                 40000|423032628|Action|Adventure|...|       Johnny Depp|Pirates of the Ca...|         522040|                    48486|      Jack Davenport|                   2|box office hit|gi...|http://www.imdb.c...|                1832| English|    USA|         PG-13|225000000|      2006|                  5000|       7.3|        2.35|                5000|\n",
      "|Color|   Gore Verbinski|                   450|     150|                    563|                  1000|         Ruth Wilson|                 40000| 89289910|Action|Adventure|...|       Johnny Depp|    The Lone Ranger |         181792|                    45757|       Tom Wilkinson|                   1|horse|outlaw|texa...|http://www.imdb.c...|                 711| English|    USA|         PG-13|215000000|      2013|                  2000|       6.5|        2.35|               48000|\n",
      "|Color|      Zack Snyder|                   733|     143|                      0|                   748|  Christopher Meloni|                 15000|291021565|Action|Adventure|...|      Henry Cavill|       Man of Steel |         548573|                    20495|        Harry Lennix|                   0|based on comic bo...|http://www.imdb.c...|                2536| English|    USA|         PG-13|225000000|      2013|                  3000|       7.2|        2.35|              118000|\n",
      "|Color|   Andrew Adamson|                   258|     150|                     80|                   201|Pierfrancesco Favino|                 22000|141614023|Action|Adventure|...|    Peter Dinklage|The Chronicles of...|         149922|                    22697|      Damián Alcázar|                   4|brother brother r...|http://www.imdb.c...|                 438| English|    USA|            PG|225000000|      2008|                   216|       6.6|        2.35|                   0|\n",
      "|Color|      Joss Whedon|                   703|     173|                      0|                 19000|   Robert Downey Jr.|                 26000|623279547|Action|Adventure|...|   Chris Hemsworth|       The Avengers |         995415|                    87697|  Scarlett Johansson|                   3|alien invasion|as...|http://www.imdb.c...|                1722| English|    USA|         PG-13|220000000|      2012|                 21000|       8.1|        1.85|              123000|\n",
      "|Color|     Rob Marshall|                   448|     136|                    252|                  1000|         Sam Claflin|                 40000|241063875|Action|Adventure|...|       Johnny Depp|Pirates of the Ca...|         370704|                    54083|      Stephen Graham|                   4|blackbeard|captai...|http://www.imdb.c...|                 484| English|    USA|         PG-13|250000000|      2011|                 11000|       6.7|        2.35|               58000|\n",
      "|Color| Barry Sonnenfeld|                   451|     106|                    188|                   718|   Michael Stuhlbarg|                 10000|179020854|Action|Adventure|...|        Will Smith|     Men in Black 3 |         268154|                    12572|  Nicole Scherzinger|                   1|alien|criminal|m....|http://www.imdb.c...|                 341| English|    USA|         PG-13|225000000|      2012|                   816|       6.8|        1.85|               40000|\n",
      "+-----+-----------------+----------------------+--------+-----------------------+----------------------+--------------------+----------------------+---------+--------------------+------------------+--------------------+---------------+-------------------------+--------------------+--------------------+--------------------+--------------------+--------------------+--------+-------+--------------+---------+----------+----------------------+----------+------------+--------------------+\n",
      "only showing top 20 rows\n",
      "\n"
     ]
    },
    {
     "data": {
      "text/plain": [
       "df: org.apache.spark.sql.DataFrame = [color: string, director_name: string ... 26 more fields]\n"
      ]
     },
     "execution_count": 3,
     "metadata": {},
     "output_type": "execute_result"
    }
   ],
   "source": [
    "val df = spark.read.option(\"header\", \"true\").csv(\"movie_metadata.csv\")\n",
    "df.show()"
   ]
  },
  {
   "cell_type": "code",
   "execution_count": 4,
   "id": "e8219d66",
   "metadata": {},
   "outputs": [
    {
     "name": "stdout",
     "output_type": "stream",
     "text": [
      "6.453200745804848\n"
     ]
    },
    {
     "data": {
      "text/plain": [
       "import org.apache.spark.sql.functions.avg\n",
       "mean: Double = 6.453200745804848\n"
      ]
     },
     "execution_count": 4,
     "metadata": {},
     "output_type": "execute_result"
    }
   ],
   "source": [
    "import org.apache.spark.sql.functions.avg\n",
    "\n",
    "val mean = df.agg(avg(\"imdb_score\").alias(\"Mean\")).collect()(0).getAs[Double](\"Mean\")\n",
    "println(mean)\n"
   ]
  },
  {
   "cell_type": "code",
   "execution_count": 5,
   "id": "c2dcd757",
   "metadata": {},
   "outputs": [
    {
     "name": "stdout",
     "output_type": "stream",
     "text": [
      "0.9988071293753289\n"
     ]
    },
    {
     "data": {
      "text/plain": [
       "import org.apache.spark.sql.functions.stddev\n",
       "stdDev: Double = 0.9988071293753289\n"
      ]
     },
     "execution_count": 5,
     "metadata": {},
     "output_type": "execute_result"
    }
   ],
   "source": [
    "import org.apache.spark.sql.functions.stddev\n",
    "\n",
    "val stdDev = df.agg(stddev(\"imdb_score\").alias(\"Standard Deviation\")).collect()(0).getAs[Double](\"Standard Deviation\")\n",
    "println(stdDev)\n"
   ]
  },
  {
   "cell_type": "code",
   "execution_count": 12,
   "id": "e6012886",
   "metadata": {},
   "outputs": [
    {
     "data": {
      "text/plain": [
       "import org.apache.spark.sql.functions.{avg, stddev}\n",
       "df1: org.apache.spark.sql.DataFrame = [id: int, value: double]\n",
       "df2: org.apache.spark.sql.DataFrame = [id: int, value: string]\n",
       "df3: org.apache.spark.sql.DataFrame = [id: int, value: double]\n"
      ]
     },
     "execution_count": 12,
     "metadata": {},
     "output_type": "execute_result"
    }
   ],
   "source": [
    "import org.apache.spark.sql.functions.{avg, stddev}\n",
    "\n",
    "// Test case 1: When the column name is valid and contains numerical values, the method should return the correct average of the column.\n",
    "val df1 = Seq((1, 5.5), (2, 4.5), (3, 6.5)).toDF(\"id\", \"value\")\n",
    "assert(df1.agg(avg(\"value\")).head().getDouble(0) == 5.5)\n",
    "\n",
    "// Test case 2: When the column name is valid but contains non-numerical values, the method should return null.\n",
    "val df2 = Seq((1, \"foo\"), (2, \"bar\"), (3, \"baz\")).toDF(\"id\", \"value\")\n",
    "assert(df2.agg(avg(\"value\")).head().isNullAt(0))\n",
    "\n",
    "// Test case 3: When the column name is valid and contains numerical values, the method should return the correct standard deviation of the column.\n",
    "val df3 = Seq((1, 5.5), (2, 4.5), (3, 6.5)).toDF(\"id\", \"value\")\n",
    "assert(df3.agg(stddev(\"value\")).head().getDouble(0) == 1.0)\n",
    "\n"
   ]
  },
  {
   "cell_type": "code",
   "execution_count": null,
   "id": "da873015",
   "metadata": {},
   "outputs": [],
   "source": []
  }
 ],
 "metadata": {
  "kernelspec": {
   "display_name": "spylon-kernel",
   "language": "scala",
   "name": "spylon-kernel"
  },
  "language_info": {
   "codemirror_mode": "text/x-scala",
   "file_extension": ".scala",
   "help_links": [
    {
     "text": "MetaKernel Magics",
     "url": "https://metakernel.readthedocs.io/en/latest/source/README.html"
    }
   ],
   "mimetype": "text/x-scala",
   "name": "scala",
   "pygments_lexer": "scala",
   "version": "0.4.1"
  }
 },
 "nbformat": 4,
 "nbformat_minor": 5
}
